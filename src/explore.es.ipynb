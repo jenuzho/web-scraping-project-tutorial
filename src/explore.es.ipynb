{
 "cells": [
  {
   "cell_type": "markdown",
   "metadata": {},
   "source": [
    "# Explora aquí\n",
    "\n",
    "Se recomienda utilizar este cuaderno con fines de exploración."
   ]
  },
  {
   "cell_type": "code",
   "execution_count": 9,
   "metadata": {},
   "outputs": [],
   "source": [
    "import os\n",
    "from bs4 import BeautifulSoup\n",
    "import requests\n",
    "import time\n",
    "import sqlite3\n",
    "import matplotlib.pyplot as plt\n",
    "import seaborn as sns\n",
    "import pandas as pd\n"
   ]
  },
  {
   "cell_type": "code",
   "execution_count": 10,
   "metadata": {},
   "outputs": [
    {
     "data": {
      "text/html": [
       "<div>\n",
       "<style scoped>\n",
       "    .dataframe tbody tr th:only-of-type {\n",
       "        vertical-align: middle;\n",
       "    }\n",
       "\n",
       "    .dataframe tbody tr th {\n",
       "        vertical-align: top;\n",
       "    }\n",
       "\n",
       "    .dataframe thead th {\n",
       "        text-align: right;\n",
       "    }\n",
       "</style>\n",
       "<table border=\"1\" class=\"dataframe\">\n",
       "  <thead>\n",
       "    <tr style=\"text-align: right;\">\n",
       "      <th></th>\n",
       "      <th>Date</th>\n",
       "      <th>Revenue</th>\n",
       "    </tr>\n",
       "  </thead>\n",
       "  <tbody>\n",
       "  </tbody>\n",
       "</table>\n",
       "</div>"
      ],
      "text/plain": [
       "Empty DataFrame\n",
       "Columns: [Date, Revenue]\n",
       "Index: []"
      ]
     },
     "execution_count": 10,
     "metadata": {},
     "output_type": "execute_result"
    }
   ],
   "source": [
    "time.sleep(10)\n",
    "\n",
    "url = \"https://ycharts.com/companies/TSLA/revenues\"\n",
    "headers = {\"User-Agent\": \"Mozilla/5.0 (Macintosh; Intel Mac OS X 10_11_5) AppleWebKit/537.36 (KHTML, like Gecko) Chrome/50.0.2661.102 Safari/537.36\"}\n",
    "response = requests.get(url, headers=headers)\n",
    "\n",
    "web_content = response.text\n",
    "soup = BeautifulSoup(web_content, \"html.parser\")\n",
    "\n",
    "tables = soup.find_all(\"div\", class_ = \"panel-content\")\n",
    "\n",
    "\n",
    "if tables:\n",
    "  for each in tables:\n",
    "    divs_rows = each.find_all(\"div\", class_ = \"row\")\n",
    "    \n",
    "    for each in divs_rows:\n",
    "      table = each.find_all(\"div\", class_ = \"table\")\n",
    "\n",
    "# Creamos DataFrame\n",
    "\n",
    "tesla_revenue = pd.DataFrame(columns = [\"Date\", \"Revenue\"])\n",
    "\n",
    "for each in table:\n",
    "  rows = each.find_all(\"tr\")\n",
    "\n",
    "  for each in rows:\n",
    "    cols = each.find_all(\"td\")\n",
    "    if len(cols) == 2:\n",
    "            date = cols[0].get_text(strip=True)\n",
    "            revenue = cols[1].get_text(strip=True)\n",
    "            tesla_revenue = pd.concat([tesla_revenue, pd.DataFrame({\n",
    "          \"Date\": date,\n",
    "          \"Revenue\": revenue\n",
    "      }, index = [0])], ignore_index = True)\n",
    "\n",
    "tesla_revenue"
   ]
  },
  {
   "cell_type": "code",
   "execution_count": 1,
   "metadata": {},
   "outputs": [
    {
     "name": "stdout",
     "output_type": "stream",
     "text": [
      "                  Date Revenue\n",
      "0   September 30, 2024  25.18B\n",
      "1        June 30, 2024  25.50B\n",
      "2       March 31, 2024  21.30B\n",
      "3    December 31, 2023  25.17B\n",
      "4   September 30, 2023  23.35B\n",
      "5        June 30, 2023  24.93B\n",
      "6       March 31, 2023  23.33B\n",
      "7    December 31, 2022  24.32B\n",
      "8   September 30, 2022  21.45B\n",
      "9        June 30, 2022  16.93B\n",
      "10      March 31, 2022  18.76B\n",
      "11   December 31, 2021  17.72B\n",
      "12  September 30, 2021  13.76B\n",
      "13       June 30, 2021  11.96B\n",
      "14      March 31, 2021  10.39B\n",
      "15   December 31, 2020  10.74B\n",
      "16  September 30, 2020  8.771B\n",
      "17       June 30, 2020  6.036B\n",
      "18      March 31, 2020  5.985B\n",
      "19   December 31, 2019  7.384B\n",
      "20  September 30, 2019  6.303B\n",
      "21       June 30, 2019   6.35B\n",
      "22      March 31, 2019  4.541B\n",
      "23   December 31, 2018  7.226B\n",
      "24  September 30, 2018  6.824B\n"
     ]
    }
   ],
   "source": [
    "import requests\n",
    "from bs4 import BeautifulSoup\n",
    "import pandas as pd\n",
    "\n",
    "# Configuración del user-agent y URL\n",
    "url = \"https://ycharts.com/companies/TSLA/revenues\"\n",
    "headers = {\"User-Agent\": \"Mozilla/5.0 (Macintosh; Intel Mac OS X 10_11_5) AppleWebKit/537.36 (KHTML, like Gecko) Chrome/50.0.2661.102 Safari/537.36\"}\n",
    "response = requests.get(url, headers=headers)\n",
    "\n",
    "# Parsear el contenido HTML\n",
    "if response.status_code == 200:\n",
    "    soup = BeautifulSoup(response.text, \"html.parser\")\n",
    "    \n",
    "    # Buscar todas las tablas\n",
    "    table = soup.find(\"table\")  # Suponemos que la tabla principal tiene el tag <table>\n",
    "    \n",
    "    if table:\n",
    "        rows = table.find_all(\"tr\")  # Buscar todas las filas dentro de la tabla\n",
    "        data = []\n",
    "\n",
    "        # Extraer datos de las filas\n",
    "        for row in rows[1:]:  # Saltamos la cabecera\n",
    "            cols = row.find_all(\"td\")\n",
    "            if len(cols) == 2:\n",
    "                date = cols[0].get_text(strip=True)\n",
    "                revenue = cols[1].get_text(strip=True)\n",
    "                data.append({\"Date\": date, \"Revenue\": revenue})\n",
    "\n",
    "        # Crear DataFrame\n",
    "        tesla_revenue = pd.DataFrame(data)\n",
    "        print(tesla_revenue)\n",
    "    else:\n",
    "        print(\"No se encontró ninguna tabla en el HTML.\")\n",
    "else:\n",
    "    print(\"No se pudo acceder a la página web.\")\n"
   ]
  }
 ],
 "metadata": {
  "kernelspec": {
   "display_name": "Python 3",
   "language": "python",
   "name": "python3"
  },
  "language_info": {
   "codemirror_mode": {
    "name": "ipython",
    "version": 3
   },
   "file_extension": ".py",
   "mimetype": "text/x-python",
   "name": "python",
   "nbconvert_exporter": "python",
   "pygments_lexer": "ipython3",
   "version": "3.11.4"
  },
  "orig_nbformat": 4
 },
 "nbformat": 4,
 "nbformat_minor": 2
}
